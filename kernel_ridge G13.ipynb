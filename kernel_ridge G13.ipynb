{
 "cells": [
  {
   "cell_type": "code",
   "execution_count": 1,
   "metadata": {
    "collapsed": true
   },
   "outputs": [],
   "source": [
    "import numpy as np\n",
    "import pandas as pd\n",
    "from sklearn.model_selection import KFold\n",
    "from sklearn.metrics import mean_squared_error\n",
    "from sklearn.datasets import make_regression\n",
    "from sklearn.model_selection import train_test_split\n"
   ]
  },
  {
   "cell_type": "markdown",
   "metadata": {},
   "source": [
    "**Loading boston data**"
   ]
  },
  {
   "cell_type": "code",
   "execution_count": 2,
   "metadata": {
    "collapsed": true
   },
   "outputs": [],
   "source": [
    "from sklearn.datasets import load_boston\n",
    "boston = load_boston()\n",
    "df_bos=pd.DataFrame(boston.data)\n",
    "df_bos.columns = boston.feature_names\n",
    "df_bos['PRICE'] = boston.target\n",
    "df_bos.head()\n",
    "df_bos.to_csv(\"housing1.csv\")"
   ]
  },
  {
   "cell_type": "code",
   "execution_count": 3,
   "metadata": {
    "collapsed": true
   },
   "outputs": [],
   "source": [
    "def load_csv(filename):\n",
    "    dataset = pd.read_csv(filename)\n",
    "    return dataset"
   ]
  },
  {
   "cell_type": "code",
   "execution_count": 5,
   "metadata": {
    "collapsed": false
   },
   "outputs": [
    {
     "data": {
      "text/html": [
       "<div>\n",
       "<table border=\"1\" class=\"dataframe\">\n",
       "  <thead>\n",
       "    <tr style=\"text-align: right;\">\n",
       "      <th></th>\n",
       "      <th>Unnamed: 0</th>\n",
       "      <th>CRIM</th>\n",
       "      <th>ZN</th>\n",
       "      <th>INDUS</th>\n",
       "      <th>CHAS</th>\n",
       "      <th>NOX</th>\n",
       "      <th>RM</th>\n",
       "      <th>AGE</th>\n",
       "      <th>DIS</th>\n",
       "      <th>RAD</th>\n",
       "      <th>TAX</th>\n",
       "      <th>PTRATIO</th>\n",
       "      <th>B</th>\n",
       "      <th>LSTAT</th>\n",
       "      <th>PRICE</th>\n",
       "    </tr>\n",
       "  </thead>\n",
       "  <tbody>\n",
       "    <tr>\n",
       "      <th>0</th>\n",
       "      <td>0</td>\n",
       "      <td>0.00632</td>\n",
       "      <td>18.0</td>\n",
       "      <td>2.31</td>\n",
       "      <td>0.0</td>\n",
       "      <td>0.538</td>\n",
       "      <td>6.575</td>\n",
       "      <td>65.2</td>\n",
       "      <td>4.0900</td>\n",
       "      <td>1.0</td>\n",
       "      <td>296.0</td>\n",
       "      <td>15.3</td>\n",
       "      <td>396.90</td>\n",
       "      <td>4.98</td>\n",
       "      <td>24.0</td>\n",
       "    </tr>\n",
       "    <tr>\n",
       "      <th>1</th>\n",
       "      <td>1</td>\n",
       "      <td>0.02731</td>\n",
       "      <td>0.0</td>\n",
       "      <td>7.07</td>\n",
       "      <td>0.0</td>\n",
       "      <td>0.469</td>\n",
       "      <td>6.421</td>\n",
       "      <td>78.9</td>\n",
       "      <td>4.9671</td>\n",
       "      <td>2.0</td>\n",
       "      <td>242.0</td>\n",
       "      <td>17.8</td>\n",
       "      <td>396.90</td>\n",
       "      <td>9.14</td>\n",
       "      <td>21.6</td>\n",
       "    </tr>\n",
       "    <tr>\n",
       "      <th>2</th>\n",
       "      <td>2</td>\n",
       "      <td>0.02729</td>\n",
       "      <td>0.0</td>\n",
       "      <td>7.07</td>\n",
       "      <td>0.0</td>\n",
       "      <td>0.469</td>\n",
       "      <td>7.185</td>\n",
       "      <td>61.1</td>\n",
       "      <td>4.9671</td>\n",
       "      <td>2.0</td>\n",
       "      <td>242.0</td>\n",
       "      <td>17.8</td>\n",
       "      <td>392.83</td>\n",
       "      <td>4.03</td>\n",
       "      <td>34.7</td>\n",
       "    </tr>\n",
       "    <tr>\n",
       "      <th>3</th>\n",
       "      <td>3</td>\n",
       "      <td>0.03237</td>\n",
       "      <td>0.0</td>\n",
       "      <td>2.18</td>\n",
       "      <td>0.0</td>\n",
       "      <td>0.458</td>\n",
       "      <td>6.998</td>\n",
       "      <td>45.8</td>\n",
       "      <td>6.0622</td>\n",
       "      <td>3.0</td>\n",
       "      <td>222.0</td>\n",
       "      <td>18.7</td>\n",
       "      <td>394.63</td>\n",
       "      <td>2.94</td>\n",
       "      <td>33.4</td>\n",
       "    </tr>\n",
       "    <tr>\n",
       "      <th>4</th>\n",
       "      <td>4</td>\n",
       "      <td>0.06905</td>\n",
       "      <td>0.0</td>\n",
       "      <td>2.18</td>\n",
       "      <td>0.0</td>\n",
       "      <td>0.458</td>\n",
       "      <td>7.147</td>\n",
       "      <td>54.2</td>\n",
       "      <td>6.0622</td>\n",
       "      <td>3.0</td>\n",
       "      <td>222.0</td>\n",
       "      <td>18.7</td>\n",
       "      <td>396.90</td>\n",
       "      <td>5.33</td>\n",
       "      <td>36.2</td>\n",
       "    </tr>\n",
       "  </tbody>\n",
       "</table>\n",
       "</div>"
      ],
      "text/plain": [
       "   Unnamed: 0     CRIM    ZN  INDUS  CHAS    NOX     RM   AGE     DIS  RAD  \\\n",
       "0           0  0.00632  18.0   2.31   0.0  0.538  6.575  65.2  4.0900  1.0   \n",
       "1           1  0.02731   0.0   7.07   0.0  0.469  6.421  78.9  4.9671  2.0   \n",
       "2           2  0.02729   0.0   7.07   0.0  0.469  7.185  61.1  4.9671  2.0   \n",
       "3           3  0.03237   0.0   2.18   0.0  0.458  6.998  45.8  6.0622  3.0   \n",
       "4           4  0.06905   0.0   2.18   0.0  0.458  7.147  54.2  6.0622  3.0   \n",
       "\n",
       "     TAX  PTRATIO       B  LSTAT  PRICE  \n",
       "0  296.0     15.3  396.90   4.98   24.0  \n",
       "1  242.0     17.8  396.90   9.14   21.6  \n",
       "2  242.0     17.8  392.83   4.03   34.7  \n",
       "3  222.0     18.7  394.63   2.94   33.4  \n",
       "4  222.0     18.7  396.90   5.33   36.2  "
      ]
     },
     "execution_count": 5,
     "metadata": {},
     "output_type": "execute_result"
    }
   ],
   "source": [
    "a = load_csv(\"/home/siddhi/Downloads/housing1.csv\")\n",
    "a.head()"
   ]
  },
  {
   "cell_type": "markdown",
   "metadata": {},
   "source": [
    "**Linear kernel**"
   ]
  },
  {
   "cell_type": "code",
   "execution_count": 6,
   "metadata": {
    "collapsed": true
   },
   "outputs": [],
   "source": [
    "def regression(x_train, y_train, lam, kernel, sigma):\n",
    "    K = np.empty([len(x_train), len(x_train)])\n",
    "    lambda_identity = np.identity(len(x_train))\n",
    "\n",
    "    for i in range(len(x_train)):\n",
    "        for j in range(len(x_train)):\n",
    "            if kernel == linear:\n",
    "                K[i, j] = linear(x_train[i], x_train[j])\n",
    "            elif kernel == polynomial:\n",
    "                K[i, j] = polynomial(x_train, gamma, r, M)\n",
    "            else:\n",
    "                K[i, j] = gauss(x_train[i], x_train[j], sigma)\n",
    "\n",
    "    theInverse = np.linalg.inv(K + lambda_identity)\n",
    "    w = np.dot(theInverse, y_train)\n",
    "    return w\n",
    "\n",
    "# def regression_Linear(x_train, y_train, lam, kernel, sigma):\n",
    "#     K = np.empty([len(x_train), len(x_train)])\n",
    "#     lambda_identity = np.identity(len(x_train))\n",
    "\n",
    "#     for i in range(len(x_train)):\n",
    "#         for j in range(len(x_train)):\n",
    "#             K[i, j] = linear(x_train[i], x_train[j])\n",
    "            \n",
    "#     theInverse = np.linalg.inv(K + lambda_identity)\n",
    "#     wL = np.dot(theInverse, y_train)\n",
    "#     return wL"
   ]
  },
  {
   "cell_type": "code",
   "execution_count": 7,
   "metadata": {
    "collapsed": true
   },
   "outputs": [],
   "source": [
    "# def regression_poly(x_train, y_train, lam, kernel, sigma):\n",
    "#     K = np.empty([len(x_train), len(x_train)])\n",
    "#     lambda_identity = np.identity(len(x_train))\n",
    "\n",
    "#     for i in range(len(x_train)):\n",
    "#         for j in range(len(x_train)):\n",
    "#                   K[i, j] = polynomial(x_train, gamma, r, M)\n",
    "            \n",
    "\n",
    "#     theInverse = np.linalg.inv(K + lambda_identity)\n",
    "#     wP = np.dot(theInverse, y_train)\n",
    "#     return wP"
   ]
  },
  {
   "cell_type": "code",
   "execution_count": 8,
   "metadata": {
    "collapsed": true
   },
   "outputs": [],
   "source": [
    "# def regression_Gauss(x_train, y_train, lam, kernel, sigma):\n",
    "#     K = np.empty([len(x_train), len(x_train)])\n",
    "#     lambda_identity = np.identity(len(x_train))\n",
    "\n",
    "#     for i in range(len(x_train)):\n",
    "#         for j in range(len(x_train)):\n",
    "#             K[i, j] = gauss(x_train[i], x_train[j], sigma)\n",
    "\n",
    "#     theInverse = np.linalg.inv(K + lambda_identity)\n",
    "#     wG = np.dot(theInverse, y_train)\n",
    "#     return wG"
   ]
  },
  {
   "cell_type": "code",
   "execution_count": 9,
   "metadata": {
    "collapsed": true
   },
   "outputs": [],
   "source": [
    "def linear(X, Xprime):\n",
    "    return np.dot(np.transpose(X), Xprime)\n",
    "\n",
    "\n",
    "def polynomial(X, xprime, gamma, r, M):\n",
    "    return (np.dot(np.dot(gamma, np.transpose(x)), xprime) + r) ** M\n",
    "\n",
    "\n",
    "def gauss(x, xprime, sigma):\n",
    "    x = x - xprime\n",
    "    return np.exp(-(np.linalg.norm(x) ** 2) / (2 * (sigma) ** 2))\n",
    "\n",
    "\n",
    "def kfold(dataset):\n",
    "    kf = KFold(n_splits=5, shuffle=True, random_state=2)\n",
    "    return kf"
   ]
  },
  {
   "cell_type": "code",
   "execution_count": 10,
   "metadata": {
    "collapsed": true
   },
   "outputs": [],
   "source": [
    "df = df_bos[['RM', 'LSTAT', 'DIS','PRICE']].copy()"
   ]
  },
  {
   "cell_type": "code",
   "execution_count": 11,
   "metadata": {
    "collapsed": true
   },
   "outputs": [],
   "source": [
    "# from sklearn.model_selection import train_test_split\n",
    "# train, test = train_test_split(df, test_size=0.2)"
   ]
  },
  {
   "cell_type": "code",
   "execution_count": 12,
   "metadata": {
    "collapsed": true
   },
   "outputs": [],
   "source": [
    "#\t\tINDUS\tx\t\tRM\t\tDIS\tRAD\tTAX\t\tB\tLSTAT\tPRIC"
   ]
  },
  {
   "cell_type": "code",
   "execution_count": 13,
   "metadata": {
    "collapsed": true
   },
   "outputs": [],
   "source": [
    "# def predict(dataset, kernel, lam, **kwargs):\n",
    "#     folds = kfold(dataset)\n",
    "#     for train_index, test_index in folds.split(dataset):\n",
    "\n",
    "#             x_train = np.asarray([[row['RM'], row['LSTAT'], row['DIS'],\n",
    "#                                    row['CRIM'], row['ZN'], row['INDUS'], row['NOX'], row['AGE'], row['PTRATIO']] for index, row in dataset.iloc[train_index].iterrows()])\n",
    "#             x_test = np.asarray([[row['RM'], row['LSTAT'], row['DIS'],\n",
    "#                                    row['CRIM'], row['ZN'], row['INDUS'], row['NOX'], row['AGE'], row['PTRATIO']] for index, row in dataset.iloc[test_index].iterrows()])\n",
    "\n",
    "#             y_train = np.asarray([[row['PRICE']]\n",
    "#                                   for index, row in dataset.iloc[train_index].iterrows()])\n",
    "\n",
    "#             y_test = np.asarray([[row['PRICE']]\n",
    "#                                  for index, row in dataset.iloc[test_index].iterrows()])\n",
    "\n",
    "#             w = regression(x_train, y_train, lam, kernel)\n",
    "#             predicted = []\n",
    "\n",
    "#             for i in range(len(x_test)):\n",
    "#                 k = np.empty(len(x_train))\n",
    "#                 for j in range(len(x_train)):\n",
    "#                     k[i] = kernel(x_train[j], x_test[i])\n",
    "#                 prediction = np.dot(k, w)\n",
    "#                 predicted.append(prediction)\n",
    "\n",
    "#             predicted = np.asarray(predicted)\n",
    "#             error = mean_squared_error(y_test, predicted)\n",
    "#             print(error)"
   ]
  },
  {
   "cell_type": "code",
   "execution_count": 14,
   "metadata": {
    "collapsed": true
   },
   "outputs": [],
   "source": [
    "def predict(dataset, kernel, lam, **kwargs):\n",
    "    folds = kfold(dataset)\n",
    "    if kernel == linear:\n",
    "        for train_index, test_index in folds.split(dataset):\n",
    "\n",
    "            x_train = np.asarray([[row['RM'], row['LSTAT'], row['DIS']]  for index, row in dataset.iloc[train_index].iterrows()])\n",
    "            x_test = np.asarray([[row['RM'], row['LSTAT'], row['DIS']]  for index, row in dataset.iloc[test_index].iterrows()])\n",
    "\n",
    "            y_train = np.asarray([[row['PRICE']]\n",
    "                                  for index, row in dataset.iloc[train_index].iterrows()])\n",
    "\n",
    "            y_test = np.asarray([[row['PRICE']]\n",
    "                                 for index, row in dataset.iloc[test_index].iterrows()])\n",
    "\n",
    "            w = regression(x_train, y_train, lam, kernel)\n",
    "            predicted = []\n",
    "\n",
    "            for i in range(len(x_test)):\n",
    "                k = np.empty(len(x_train))\n",
    "                for j in range(len(x_train)):\n",
    "                    k[i] = kernel(x_train[j], x_test[i])\n",
    "                prediction = np.dot(k, w)\n",
    "                predicted.append(prediction)\n",
    "\n",
    "            predicted = np.asarray(predicted)\n",
    "            error = mean_squared_error(y_test, predicted)\n",
    "            print(error)\n",
    "\n",
    "    if kernel == polynomial:\n",
    "        gamma = kwargs['gamma']\n",
    "        r = kwargs['r']\n",
    "        M = kwargs['M']\n",
    "\n",
    "        for train_index, test_index in folds.split(dataset):\n",
    "\n",
    "            x_train = np.asarray([[row['RM'], row['LSTAT'], row['DIS']]  for index, row in dataset.iloc[train_index].iterrows()])\n",
    "            x_test = np.asarray([[row['RM'], row['LSTAT'], row['DIS']]  for index, row in dataset.iloc[test_index].iterrows()])\n",
    "\n",
    "            y_train = np.asarray([[row['PRICE']]\n",
    "                                  for index, row in dataset.iloc[train_index].iterrows()])\n",
    "\n",
    "            y_test = np.asarray([[row['PRICE']]\n",
    "                                 for index, row in dataset.iloc[test_index].iterrows()])\n",
    "\n",
    "            w = regression(x_train, y_train, lam, kernel, gamma, r, M)\n",
    "\n",
    "            predicted = []\n",
    "\n",
    "            for i in range(len(x_test)):\n",
    "                k = np.empty(len(x_train))\n",
    "                for j in range(len(x_train)):\n",
    "                    k[i] = kernel(x_train[j], x_test[i])\n",
    "                    prediction = np.dot(np.transpose(k), w)\n",
    "                    predicted.append(prediction)\n",
    "\n",
    "                predicted = np.asarray()\n",
    "\n",
    "    if kernel == gauss:\n",
    "        sigma = 10\n",
    "\n",
    "        for train_index, test_index in folds.split(dataset):\n",
    "\n",
    "            x_train = np.asarray([[row['RM'], row['LSTAT'], row['DIS']]  for index, row in dataset.iloc[train_index].iterrows()])\n",
    "            x_test = np.asarray([[row['RM'], row['LSTAT'], row['DIS']]  for index, row in dataset.iloc[test_index].iterrows()])\n",
    "\n",
    "            y_train = np.asarray([[row['PRICE']]\n",
    "                                  for index, row in dataset.iloc[train_index].iterrows()])\n",
    "\n",
    "            y_test = np.asarray([[row['PRICE']]\n",
    "                                 for index, row in dataset.iloc[test_index].iterrows()])\n",
    "\n",
    "            w = regression(x_train, y_train, lam, kernel, sigma)\n",
    "            predicted = []\n",
    "\n",
    "            for i in range(len(x_test)):\n",
    "                k = np.empty(len(x_train))\n",
    "                for j in range(len(x_train)):\n",
    "                    k[i] = kernel(x_train[j], x_test[i], sigma)\n",
    "                prediction = np.dot(k, w)\n",
    "                predicted.append(prediction)\n",
    "\n",
    "            predicted = np.asarray(predicted)\n",
    "            #print(predicted)\n",
    "            error = mean_squared_error(y_test, predicted)\n",
    "            print(error)"
   ]
  },
  {
   "cell_type": "code",
   "execution_count": 16,
   "metadata": {
    "collapsed": false
   },
   "outputs": [
    {
     "name": "stdout",
     "output_type": "stream",
     "text": [
      "72504338.7792\n",
      "128606.232648\n",
      "3248.8281739\n",
      "58827.9309374\n",
      "16157.919513\n"
     ]
    }
   ],
   "source": [
    "filename = \"/home/siddhi/Downloads/housing1.csv\"\n",
    "dataset = load_csv(filename)\n",
    "\n",
    "predict(dataset, gauss, 0.5)\n"
   ]
  },
  {
   "cell_type": "code",
   "execution_count": null,
   "metadata": {
    "collapsed": true
   },
   "outputs": [],
   "source": [
    "\n"
   ]
  },
  {
   "cell_type": "code",
   "execution_count": null,
   "metadata": {
    "collapsed": true
   },
   "outputs": [],
   "source": []
  },
  {
   "cell_type": "code",
   "execution_count": null,
   "metadata": {
    "collapsed": true
   },
   "outputs": [],
   "source": []
  }
 ],
 "metadata": {
  "kernelspec": {
   "display_name": "Python 2",
   "language": "python",
   "name": "python2"
  },
  "language_info": {
   "codemirror_mode": {
    "name": "ipython",
    "version": 2
   },
   "file_extension": ".py",
   "mimetype": "text/x-python",
   "name": "python",
   "nbconvert_exporter": "python",
   "pygments_lexer": "ipython2",
   "version": "2.7.13"
  }
 },
 "nbformat": 4,
 "nbformat_minor": 2
}
