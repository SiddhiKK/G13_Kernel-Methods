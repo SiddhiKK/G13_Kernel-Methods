{
 "cells": [
  {
   "cell_type": "code",
   "execution_count": 38,
   "metadata": {
    "collapsed": true
   },
   "outputs": [],
   "source": [
    "#Importing all required packages\n",
    "import numpy as np\n",
    "# load boston housing data\n",
    "from sklearn.datasets import load_boston"
   ]
  },
  {
   "cell_type": "code",
   "execution_count": 39,
   "metadata": {
    "collapsed": false
   },
   "outputs": [
    {
     "name": "stdout",
     "output_type": "stream",
     "text": [
      "(506, 13)\n",
      "(506,)\n"
     ]
    }
   ],
   "source": [
    "#Loading data\n",
    "(X, y) = load_boston(return_X_y=True)"
   ]
  },
  {
   "cell_type": "code",
   "execution_count": 40,
   "metadata": {
    "collapsed": false
   },
   "outputs": [],
   "source": [
    "#Spliting dataset for training and testing\n",
    "from sklearn.model_selection import train_test_split\n",
    "X_train, X_test, y_train, y_test = train_test_split(X, y, test_size=0.2, random_state=42)"
   ]
  },
  {
   "cell_type": "code",
   "execution_count": 41,
   "metadata": {
    "collapsed": true
   },
   "outputs": [],
   "source": [
    "# data normalization\n",
    "from sklearn import preprocessing\n",
    "scaler = preprocessing.StandardScaler().fit(X_train) "
   ]
  },
  {
   "cell_type": "code",
   "execution_count": 42,
   "metadata": {
    "collapsed": true
   },
   "outputs": [],
   "source": [
    "X_train_n = scaler.transform(X_train)"
   ]
  },
  {
   "cell_type": "code",
   "execution_count": 43,
   "metadata": {
    "collapsed": true
   },
   "outputs": [],
   "source": [
    "# generate polynomial features \n",
    "from sklearn.preprocessing import PolynomialFeatures\n",
    "X_train_n_poly2 = PolynomialFeatures(2).fit_transform(X_train_n)"
   ]
  },
  {
   "cell_type": "code",
   "execution_count": 44,
   "metadata": {
    "collapsed": true
   },
   "outputs": [],
   "source": [
    "# create model/estimator instance \n",
    "from sklearn.linear_model import Ridge \n",
    "clf = Ridge()"
   ]
  },
  {
   "cell_type": "code",
   "execution_count": 45,
   "metadata": {
    "collapsed": true
   },
   "outputs": [],
   "source": [
    "from sklearn.model_selection import GridSearchCV\n",
    "parameters_to_tune = [{'alpha' : [0.1, 1, 10, 100]}]"
   ]
  },
  {
   "cell_type": "code",
   "execution_count": 46,
   "metadata": {
    "collapsed": false,
    "scrolled": true
   },
   "outputs": [
    {
     "data": {
      "text/plain": [
       "GridSearchCV(cv=5, error_score='raise',\n",
       "       estimator=Ridge(alpha=1.0, copy_X=True, fit_intercept=True, max_iter=None,\n",
       "   normalize=False, random_state=None, solver='auto', tol=0.001),\n",
       "       fit_params={}, iid=True, n_jobs=1,\n",
       "       param_grid=[{'alpha': [0.1, 1, 10, 100]}], pre_dispatch='2*n_jobs',\n",
       "       refit=True, return_train_score=True, scoring=None, verbose=0)"
      ]
     },
     "execution_count": 46,
     "metadata": {},
     "output_type": "execute_result"
    }
   ],
   "source": [
    "# grid search on all parameters to be explored and Cross-Validate (CV) to get the best set of parameters\n",
    "trainer = GridSearchCV(clf, parameters_to_tune, cv=5) # 5 fold cross validation\n",
    "trainer.fit(X_train_n_poly2, y_train)"
   ]
  },
  {
   "cell_type": "code",
   "execution_count": 47,
   "metadata": {
    "collapsed": false
   },
   "outputs": [
    {
     "name": "stdout",
     "output_type": "stream",
     "text": [
      "{'alpha': 10}\n",
      "0.848726968415\n",
      "Ridge(alpha=10, copy_X=True, fit_intercept=True, max_iter=None,\n",
      "   normalize=False, random_state=None, solver='auto', tol=0.001)\n"
     ]
    }
   ],
   "source": [
    "# best set of parameters found\n",
    "print(trainer.best_params_) # best parameter found \n",
    "print(trainer.best_score_) # score of the best parameter on the left out fold during CV\n",
    "print(trainer.best_estimator_) # best estimator "
   ]
  },
  {
   "cell_type": "code",
   "execution_count": 48,
   "metadata": {
    "collapsed": true
   },
   "outputs": [],
   "source": [
    "# test the best model on test split \n",
    "X_test_n = scaler.transform(X_test)\n",
    "X_test_n_poly2 = PolynomialFeatures(2).fit_transform(X_test_n)"
   ]
  },
  {
   "cell_type": "code",
   "execution_count": 49,
   "metadata": {
    "collapsed": false
   },
   "outputs": [
    {
     "name": "stdout",
     "output_type": "stream",
     "text": [
      "(102,)\n"
     ]
    }
   ],
   "source": [
    "# predict\n",
    "y_pred = trainer.best_estimator_.predict(X_test_n_poly2)\n",
    "# score prediction \n",
    "score = trainer.best_estimator_.score(X_test_n_poly2, y_test)\n",
    "print y_pred.shape"
   ]
  },
  {
   "cell_type": "code",
   "execution_count": 50,
   "metadata": {
    "collapsed": false
   },
   "outputs": [
    {
     "name": "stdout",
     "output_type": "stream",
     "text": [
      "[ 26.45039863  35.00842027  17.71855547  21.17561815  15.87471218\n",
      "  19.52548122  17.78234188  15.14759835  23.58920922  19.49689471\n",
      "  20.09021524  19.04517395   7.13648884  19.44423935  18.10857553\n",
      "  23.32794701  18.89003428  10.82209381  47.18492606  14.38163629\n",
      "  25.78068267  27.98952062  15.49806555  22.1492763   18.09481804\n",
      "  18.94489911  18.91117604  13.34516925  18.85713379  18.99341429\n",
      "  19.70746818  24.24607655  18.94757075  26.04173502  15.51920784\n",
      "  17.59848075  32.6006097   20.95785447  21.10197532  22.31030043\n",
      "  16.99221403  31.1612604   51.34614006  16.38189682  26.39306556\n",
      "  17.72204145  15.25805248  24.25129919  19.15288363  27.87720808\n",
      "  19.6359925   35.38788887  16.85619445  25.10204595  43.9844108\n",
      "  23.08382768  15.90136438  31.98113744  25.19798162  16.22520325\n",
      "  24.93575044  33.02762023  31.08428599  15.64710723  25.29674131\n",
      "  16.7500816   15.77907781  24.00404641  29.79098893  12.55352056\n",
      "  21.25499338  28.6722302   10.64567204  21.10449073  20.42267434\n",
      "   6.11808753  20.09021727  48.07336835  12.17248466  13.02045585\n",
      "  18.62430331  12.70512993  18.0003669   12.79710817  20.00113995\n",
      "  29.04854374  16.74681294  24.82786119  24.84844706  18.85187425\n",
      "  24.61205441   8.15626561  19.36267368  18.5574204   40.93718275\n",
      "  20.2421081   27.35370513   7.39505579  12.20431801  14.93964203\n",
      "  23.01551458  21.55891954]\n"
     ]
    }
   ],
   "source": [
    "print(y_pred)"
   ]
  },
  {
   "cell_type": "code",
   "execution_count": 51,
   "metadata": {
    "collapsed": false
   },
   "outputs": [
    {
     "name": "stdout",
     "output_type": "stream",
     "text": [
      "0.818734460612\n"
     ]
    }
   ],
   "source": [
    "print(score)"
   ]
  },
  {
   "cell_type": "code",
   "execution_count": 52,
   "metadata": {
    "collapsed": false
   },
   "outputs": [],
   "source": [
    "from sklearn.metrics import mean_squared_error\n",
    "from math import sqrt\n",
    "rmse = sqrt(mean_squared_error(y_test, y_pred))"
   ]
  },
  {
   "cell_type": "code",
   "execution_count": 53,
   "metadata": {
    "collapsed": false
   },
   "outputs": [
    {
     "name": "stdout",
     "output_type": "stream",
     "text": [
      "3.64594127215\n"
     ]
    }
   ],
   "source": [
    "print(rmse)"
   ]
  },
  {
   "cell_type": "code",
   "execution_count": null,
   "metadata": {
    "collapsed": true
   },
   "outputs": [],
   "source": []
  }
 ],
 "metadata": {
  "kernelspec": {
   "display_name": "Python 2",
   "language": "python",
   "name": "python2"
  },
  "language_info": {
   "codemirror_mode": {
    "name": "ipython",
    "version": 2
   },
   "file_extension": ".py",
   "mimetype": "text/x-python",
   "name": "python",
   "nbconvert_exporter": "python",
   "pygments_lexer": "ipython2",
   "version": "2.7.13"
  }
 },
 "nbformat": 4,
 "nbformat_minor": 2
}
